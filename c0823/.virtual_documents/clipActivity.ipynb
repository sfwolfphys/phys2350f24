%matplotlib inline

import matplotlib.pyplot as plt
#from matplotlib.patches import Rectangle
import pandas as pd
import numpy as np
from thisActivity import *
from great_tables import GT, md, style, loc

plt.rcParams.update({'font.size':18})

















fig, ax = xvtPlt(0,6)
p = plt.Rectangle((1.5,pos(1.5)),width=1,height=(pos(2.5)-pos(1.5)),
             ec='r',fill=False)
ax.add_patch(p)
plt.show()





fig, ax = xvtPlt(1.5,2.5)
p = plt.Rectangle((1.95,pos(1.95)),width=.1,height=(pos(2.05)-pos(1.95)),
             ec='r',fill=False)
ax.add_patch(p)
plt.show()





xvtPlt(1.95,2.05)
plt.show()





# Behind the scenes, I have created a function called `pos(t)` which calculates t^2-6t+10
avgSpd = (pos(2.05)-pos(1.95))/(2.05-1.95)
print(f"The average speed between 1.95 s and 2.05 s is {avgSpd} m/s")

# This line creates the plot
fig, ax = xvtPlt(0,6)
ax.axline((2, 2), slope=avgSpd, color='r',ls='--')  # adds a red, dashed line going through 
                                                    # (2,2) with slope = avgSpd
plt.show()












