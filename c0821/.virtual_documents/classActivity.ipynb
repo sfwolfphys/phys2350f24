





























%matplotlib inline

import matplotlib.pyplot as plt
import pandas as pd
import numpy as np
from thisActivity import *

plt.rcParams.update({'font.size':18})

tAC = [0, 3]
xAC = [2, 8]
tAD = [0, 5]
xAD = [2, 10]
tBD = [1, 5]
xBD = [2, 10]

fig, ax = makeMyPlot()
ax.plot(tAC,xAC,'g-')
ax.plot(tAD,xAD,'b-')
ax.plot(tBD,xBD,'y-')
plt.savefig('plotWithSecants.png')
plt.show()




