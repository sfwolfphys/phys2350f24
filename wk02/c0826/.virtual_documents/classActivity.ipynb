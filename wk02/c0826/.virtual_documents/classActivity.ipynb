%matplotlib inline

import matplotlib.pyplot as plt
#from matplotlib.patches import Rectangle
import pandas as pd
import numpy as np
from thisActivity import *
from great_tables import GT, md, style, loc

plt.rcParams.update({'font.size':18})























makeTriPlot(0,0,0,5,1)
makeTriPlot(0,0,0,5,0.5)
makeTriPlot(0,0,0,5,0.1)





makeTriPlot(0,0,0,5,0.001)















